{
 "cells": [
  {
   "cell_type": "code",
   "execution_count": 1,
   "metadata": {},
   "outputs": [],
   "source": [
    "import numpy as np\n",
    "\n",
    "def initialisation(layer_dims):\n",
    "    parametres={}\n",
    "    L=len(layer_dims)\n",
    "    \n",
    "    for l in range (1,L):\n",
    "        parametres[f'W{l}']=np.random.randn(layer_dims[l],layer_dims[l-1])\n",
    "        parametres[f'b{l}']=np.random.randn(layer_dims[l],1)\n",
    "        \n",
    "    return parametres\n",
    "\n",
    "def print_parametres_dimensions(parametres):\n",
    "    for key,value in parametres.items():\n",
    "        print(f'{key}:{value.shape}')\n",
    "        "
   ]
  },
  {
   "cell_type": "code",
   "execution_count": 3,
   "metadata": {},
   "outputs": [],
   "source": [
    "#layers_dimensions=[3,5,4,3,1]\n",
    "#parametres=initialisation(layers_dimensions)\n",
    "#print_parametres_dimensions(parametres) "
   ]
  },
  {
   "cell_type": "code",
   "execution_count": 2,
   "metadata": {},
   "outputs": [
    {
     "name": "stdout",
     "output_type": "stream",
     "text": [
      "{'W1': array([[-0.31529768,  0.76235073,  0.02952854, -0.09688406,  0.22222251,\n",
      "         0.24202434,  0.1368376 , -0.16323315, -0.55928453,  0.63545833],\n",
      "       [-0.2874258 ,  0.51948317, -0.35328288, -2.11866791, -0.70706042,\n",
      "         0.66842313,  0.5176839 ,  0.13655429, -0.59073422, -0.54340883],\n",
      "       [ 1.48281473,  0.56192852,  0.14186804,  0.72399548,  2.13830462,\n",
      "        -1.03514601, -1.24116406,  1.21649967, -0.62409606,  0.29172163],\n",
      "       [ 0.18547951,  0.77594158,  0.80662312,  0.48010857, -0.56992253,\n",
      "         0.34282718,  0.0333164 ,  0.36360772, -0.88653987, -0.71657441],\n",
      "       [ 0.65540679,  1.34288233,  2.38329144,  0.15950698, -0.56995104,\n",
      "        -0.50554037, -0.38992219, -1.14117933,  1.60119027,  0.64150401]]), 'b1': array([[ 1.01968845],\n",
      "       [ 0.55236807],\n",
      "       [ 0.03470552],\n",
      "       [-0.18680161],\n",
      "       [ 0.04403497]]), 'W2': array([[-0.9151427 , -0.19896361,  0.52331121, -0.73224136,  0.54960361],\n",
      "       [ 0.598192  ,  1.86917947, -1.86225695, -1.09192305,  1.65170988],\n",
      "       [-1.28709678,  0.18216164, -0.22695539,  0.10864955, -0.98050024]]), 'b2': array([[-1.4038226 ],\n",
      "       [ 0.39342479],\n",
      "       [-0.2205994 ]])}\n"
     ]
    }
   ],
   "source": [
    "layer_dimensions = [10, 5, 3]  \n",
    "\n",
    "parametres_initialises = initialisation(layer_dimensions)  \n",
    "\n",
    "print(parametres_initialises)"
   ]
  },
  {
   "cell_type": "code",
   "execution_count": 4,
   "metadata": {},
   "outputs": [],
   "source": [
    "def forward_propagation(X, parametres):\n",
    "    activations = {'A0': X}\n",
    "    L = len(parametres) // 2\n",
    "\n",
    "    for l in range(1, L+1):\n",
    "        A_prev = activations[f'A{l-1}']\n",
    "        W = parametres[f'W{l}']\n",
    "        b = parametres[f'b{l}']\n",
    "\n",
    "        Z = np.dot(W, A_prev) + b\n",
    "        A = 1 / (1 + np.exp(-Z))\n",
    "\n",
    "        activations[f'A{l}'] = A\n",
    "\n",
    "    return activations\n"
   ]
  },
  {
   "cell_type": "code",
   "execution_count": 5,
   "metadata": {},
   "outputs": [],
   "source": [
    "X = np.random.randn(10, 100) \n",
    "parametres = initialisation([10, 5, 3]) \n",
    "\n",
    "activations = forward_propagation(X, parametres) \n"
   ]
  },
  {
   "cell_type": "code",
   "execution_count": 6,
   "metadata": {},
   "outputs": [],
   "source": [
    "def backward_propagation(X, Y, activations, parametres):\n",
    "    gradients = {}\n",
    "    L = len(parametres) // 2\n",
    "    m = X.shape[1]\n",
    "\n",
    "    dZ = activations[f'A{L}'] - Y\n",
    "\n",
    "    for l in reversed(range(1, L+1)):\n",
    "        gradients[f'dW{l}'] = 1/m * np.dot(dZ, activations[f'A{l-1}'].T)\n",
    "        gradients[f'db{l}'] = 1/m * np.sum(dZ, axis=1, keepdims=True)\n",
    "\n",
    "        if l > 1:\n",
    "            dA_prev = np.dot(parametres[f'W{l}'].T, dZ)\n",
    "            dZ = dA_prev * (activations[f'A{l-1}'] * (1 - activations[f'A{l-1}']))\n",
    "\n",
    "    return gradients\n"
   ]
  },
  {
   "cell_type": "code",
   "execution_count": 7,
   "metadata": {},
   "outputs": [
    {
     "name": "stdout",
     "output_type": "stream",
     "text": [
      "{'dW4': array([[-0.05026273, -0.06151143, -0.02738911]]), 'db4': array([[-0.09223659]]), 'dW3': array([[-0.00222131, -0.00178327, -0.00622563, -0.00083475],\n",
      "       [ 0.00188633,  0.00151365,  0.00529041,  0.00071042],\n",
      "       [ 0.00344026,  0.00276128,  0.00963989,  0.00129353]]), 'db3': array([[-0.0074787 ],\n",
      "       [ 0.0063556 ],\n",
      "       [ 0.01158125]]), 'dW2': array([[ 1.99025595e-03,  1.01582498e-03,  7.06720829e-04,\n",
      "         3.22643819e-03,  9.05024519e-04],\n",
      "       [ 5.98592783e-05,  3.14727563e-05,  2.16188288e-05,\n",
      "         9.72755538e-05,  2.74228917e-05],\n",
      "       [-1.27770137e-03, -6.36606859e-04, -4.47702331e-04,\n",
      "        -2.05428779e-03, -5.71608639e-04],\n",
      "       [-6.84195140e-04, -3.28149879e-04, -2.36209808e-04,\n",
      "        -1.09417728e-03, -3.02519605e-04]]), 'db2': array([[ 0.00407285],\n",
      "       [ 0.00012297],\n",
      "       [-0.00260335],\n",
      "       [-0.00139081]]), 'dW1': array([[ 1.46666014e-04,  8.22398561e-05,  1.61634129e-04],\n",
      "       [ 6.63323417e-04,  4.00063196e-04,  6.79228388e-04],\n",
      "       [-2.35453070e-04, -1.43276461e-04, -2.57736031e-04],\n",
      "       [-6.02082525e-04, -2.98502673e-04, -6.54063061e-04],\n",
      "       [ 2.92497449e-04,  1.96441434e-04,  3.21492572e-04]]), 'db1': array([[ 0.00026872],\n",
      "       [ 0.00128591],\n",
      "       [-0.00047054],\n",
      "       [-0.00111024],\n",
      "       [ 0.00058972]])}\n"
     ]
    }
   ],
   "source": [
    "# Exemple d'utilisation\n",
    "X = np.random.rand(3, 100)  # Exemple d'entrée\n",
    "Y = np.random.rand(1, 100)  # Exemple de sortie\n",
    "dimensions_couches = [3, 5, 4, 3, 1]\n",
    "parametres = initialisation(dimensions_couches)\n",
    "activations = forward_propagation(X, parametres)\n",
    "gradients = backward_propagation(X, Y, activations, parametres)\n",
    "\n",
    "print(gradients)"
   ]
  },
  {
   "cell_type": "code",
   "execution_count": 8,
   "metadata": {},
   "outputs": [],
   "source": [
    "def update(parametres, gradients, taux_apprentissage):\n",
    "    L = len(parametres) // 2\n",
    "\n",
    "    for l in range(1, L+1):\n",
    "        parametres[f'W{l}'] -= taux_apprentissage * gradients[f'dW{l}']\n",
    "        parametres[f'b{l}'] -= taux_apprentissage * gradients[f'db{l}']\n",
    "\n",
    "    return parametres"
   ]
  },
  {
   "cell_type": "code",
   "execution_count": 9,
   "metadata": {},
   "outputs": [],
   "source": [
    "parametres = initialisation(dimensions_couches)  \n",
    "gradients = backward_propagation(X, Y, activations, parametres) \n",
    "taux_apprentissage = 0.1 \n",
    "parametres =update(parametres, gradients, taux_apprentissage)"
   ]
  },
  {
   "cell_type": "code",
   "execution_count": 10,
   "metadata": {},
   "outputs": [],
   "source": [
    "def entrainement(X, Y, dimensions_couches, taux_apprentissage, nombre_iterations):\n",
    "    parametres = initialisation(dimensions_couches)  # Initialisation des paramètres\n",
    "    for iteration in range(nombre_iterations):\n",
    "        activations = forward_propagation(X, parametres)\n",
    "\n",
    "        # Rétropropagation\n",
    "        gradients = backward_propagation(X, Y, activations, parametres)\n",
    "\n",
    "        # Mise à jour des paramètres\n",
    "        parametres =update(parametres, gradients, taux_apprentissage)\n",
    "        \n",
    "        # Affichage du coût (facultatif)\n",
    "        cout = calculer_cout(activations[f'A{len(dimensions_couches) - 1}'], Y)\n",
    "        if iteration % 100 == 0:\n",
    "            print(f\"Itération {iteration}: coût = {cout}\")\n",
    "\n",
    "    return parametres"
   ]
  },
  {
   "cell_type": "code",
   "execution_count": 11,
   "metadata": {},
   "outputs": [],
   "source": [
    "def calculer_cout(Y_pred, Y):\n",
    "    m = Y.shape[1]\n",
    "    cout = -1/m * np.sum(Y * np.log(Y_pred) + (1 - Y) * np.log(1 - Y_pred))\n",
    "    return cout"
   ]
  },
  {
   "cell_type": "code",
   "execution_count": null,
   "metadata": {},
   "outputs": [],
   "source": [
    "X_train = ...\n",
    "Y_train = ...\n",
    "\n",
    "# Spécification du nombre de neurones dans chaque couche\n",
    "dimensions_couches = [n_x, n_h1, n_h2, ..., n_y]\n",
    "\n",
    "# Paramètres d'entraînement\n",
    "taux_apprentissage = 0.1\n",
    "nombre_iterations = 1000\n",
    "\n",
    "# Appel de la fonction d'entraînement\n",
    "parametres_entraines = entrainement(X_train, Y_train, dimensions_couches, taux_apprentissage, nombre_iterations)"
   ]
  }
 ],
 "metadata": {
  "kernelspec": {
   "display_name": "Python 3",
   "language": "python",
   "name": "python3"
  },
  "language_info": {
   "codemirror_mode": {
    "name": "ipython",
    "version": 3
   },
   "file_extension": ".py",
   "mimetype": "text/x-python",
   "name": "python",
   "nbconvert_exporter": "python",
   "pygments_lexer": "ipython3",
   "version": "3.11.4"
  }
 },
 "nbformat": 4,
 "nbformat_minor": 2
}
