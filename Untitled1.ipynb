{
 "cells": [
  {
   "cell_type": "code",
   "execution_count": 8,
   "id": "05eb57eb",
   "metadata": {},
   "outputs": [
    {
     "name": "stdout",
     "output_type": "stream",
     "text": [
      "Entités : [('la', 'TABLE')]\n",
      "Relations : []\n"
     ]
    }
   ],
   "source": [
    "import spacy\n",
    "\n",
    "def extract_entities_relations_spacy(question):\n",
    "    nlp = spacy.load(\"fr_core_news_sm\")\n",
    "    doc = nlp(question)\n",
    "\n",
    "    entities = []\n",
    "    relations = []\n",
    "\n",
    "    for token in doc:\n",
    "        if token.text.lower() == 'table' or token.text.lower() == 'column':\n",
    "            entity_type = 'TABLE' if token.text.lower() == 'table' else 'COLUMN'\n",
    "            entities.append((token.nbor(-1).text, entity_type))\n",
    "\n",
    "    for ent in doc.ents:\n",
    "        if ent.label_ == 'TABLE' or ent.label_ == 'COLUMN':\n",
    "            entities.append((ent.text, ent.label_))\n",
    "\n",
    "    for i, token in enumerate(doc):\n",
    "        if token.text.lower() == 'table':\n",
    "            table_entity = (token.nbor(-1).text, 'TABLE')\n",
    "            for j in range(i, len(doc)):\n",
    "                if doc[j].text.lower() == 'column':\n",
    "                    column_entity = (doc[j].nbor(-1).text, 'COLUMN')\n",
    "                    relations.append((table_entity, column_entity))\n",
    "\n",
    "    return entities, relations\n",
    "\n",
    "# Exemple d'utilisation\n",
    "question = \"Quelle est la relation entre la TABLE des ventes et la COLONNE des revenus ?\"\n",
    "entities, relations = extract_entities_relations_spacy(question)\n",
    "print(\"Entités :\", entities)\n",
    "print(\"Relations :\", relations)\n"
   ]
  },
  {
   "cell_type": "code",
   "execution_count": null,
   "id": "50789643",
   "metadata": {},
   "outputs": [],
   "source": []
  }
 ],
 "metadata": {
  "kernelspec": {
   "display_name": "Python 3 (ipykernel)",
   "language": "python",
   "name": "python3"
  },
  "language_info": {
   "codemirror_mode": {
    "name": "ipython",
    "version": 3
   },
   "file_extension": ".py",
   "mimetype": "text/x-python",
   "name": "python",
   "nbconvert_exporter": "python",
   "pygments_lexer": "ipython3",
   "version": "3.11.4"
  }
 },
 "nbformat": 4,
 "nbformat_minor": 5
}
